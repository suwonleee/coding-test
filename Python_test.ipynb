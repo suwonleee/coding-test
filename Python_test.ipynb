{
 "cells": [
  {
   "cell_type": "markdown",
   "metadata": {},
   "source": [
    "<h3> 거스름돈 문제:</h3>\n",
    "<br/>\n",
    "손님이 내는 금액(n)을 최소 동전 개수로 거슬러 주자.\n",
    "<br/>\n",
    "-> 가장 큰 화폐 단위부터 거슬러 주기 !!"
   ]
  },
  {
   "cell_type": "code",
   "execution_count": null,
   "metadata": {},
   "outputs": [],
   "source": [
    "n = 1260\n",
    "count = 0\n",
    "\n",
    "# 큰 단위의 화폐부터 차례대로 확인하기\n",
    "coin_types = [500, 100, 50, 10]\n",
    "\n",
    "for coin in coin_types:\n",
    "    # 나머지 해당 화폐로 거슬러 줄 수 있는 동전의 개수 세기\n",
    "    # '//' 는 몫.  나누고 난 뒤 몫 ! \n",
    "    count += n // coin \n",
    "    #나누고 난 뒤, 남은 금액을 담아주기\n",
    "    # '%' 는 나머지.\n",
    "    n %= coin\n",
    "\n",
    "print(count)"
   ]
  },
  {
   "cell_type": "markdown",
   "metadata": {},
   "source": [
    "<h3> 큰 수의 법칙</h3>\n",
    "<br/>일반적으로 통계에서 사용하는 내용\n",
    "<br/>다양한 수로 이루어진 배열이 있을 때 주어진 수들을 \n",
    "<br/>M번 더하여 가장 큰 수를 만드는 법칙.\n",
    "<br/> 단, 배열의 특정한 인덱스(번호)에 해당하는 수가\n",
    "<br/> 연속해서 K번 초과하여 더해질 수 없다.\n",
    "\n"
   ]
  },
  {
   "cell_type": "code",
   "execution_count": null,
   "metadata": {},
   "outputs": [],
   "source": [
    "# N, M, K를 공백을 기준으로 구분하여 입력 받기 ( 3개 )\n",
    "## 예시\n",
    "# 5 8 3\n",
    "# 2 4 5 4 6\n",
    "\n",
    "n, m, k = map(int, input().split())\n",
    "# N : n번(횟수) / M : m회(총 횟수) / K: k회( 한 숫자당 최대 횟수)\n",
    "\n",
    "# N개의 수를 공백을 기준으로 구분하여 입력 받기\n",
    "data = list(map(int, input().split()))\n",
    "\n",
    "data.sort() # 입력 받은 수들 정렬하기 -> 오름차 순서대로 정렬\n",
    "first = data[n - 1] # 가장 큰 수\n",
    "second = data[n - 2] # 두 번째로 큰 수\n",
    "\n",
    "# 가장 큰 수가 더해지는 횟수 계산\n",
    "## 풀(full) 루틴(가장 큰 수로 최대 몇 번 몇 바퀴 돌 수 있는지 )\n",
    "count = int(m / (k + 1)) * k\n",
    "# count = int(8 / (4)) * 3 -> 6 (3씩 두번)\n",
    "# count = int(8 / (5)) * 4 -> 4 (1 * 4 )\n",
    "\n",
    "## 남은(rest) 루틴(가장 큰 수가 루틴 돌고 남은 횟수)\n",
    "count += m % (k + 1)\n",
    "# count += 8 % 4 -> 나머지 0   6\n",
    "# count += 8 % 5 -> 나머지 3   7\n",
    "\n",
    "\n",
    "result = 0\n",
    "result += (count) * first # 가장 큰 수 더하기\n",
    "result += (m - count) * second # 두 번째로 큰 수 더하기\n",
    "\n",
    "print(result) # 최종 답안 출력"
   ]
  },
  {
   "cell_type": "markdown",
   "metadata": {},
   "source": [
    "<h3> 숫자 카드 게임</h3>"
   ]
  },
  {
   "cell_type": "code",
   "execution_count": null,
   "metadata": {},
   "outputs": [],
   "source": [
    "# N, M을 공백을 기준으로 구분하여 입력 받기\n",
    "n, m = map(int, input().split())\n",
    "\n",
    "result = 0\n",
    "# 한 줄씩 입력 받아 확인하기\n",
    "for i in range(n):\n",
    "    data = list(map(int, input().split()))\n",
    "    # 현재 줄에서 '가장 작은 수' 찾기\n",
    "    min_value = 10001\n",
    "    for a in data:\n",
    "        min_value = min(min_value, a)\n",
    "    # '가장 작은 수'들 중에서 가장 큰 수 찾기\n",
    "    result = max(result, min_value)\n",
    "\n",
    "print(result) # 최종 답안 출력"
   ]
  },
  {
   "cell_type": "markdown",
   "metadata": {},
   "source": [
    "<h3> 1이 될 때까지:</h3>\n"
   ]
  },
  {
   "cell_type": "code",
   "execution_count": null,
   "metadata": {},
   "outputs": [],
   "source": [
    "# N, K공백을 기준으로 구분하여 입력 받기\n",
    "n, k = map(int, input().split())\n",
    "\n",
    "result = 0\n",
    "\n",
    "while True:\n",
    "    # N이 K로 나누어 떨어지는 수가 될 때까지만 1씩 빼기\n",
    "    target = (n // k) * k\n",
    "    result += (n - target)\n",
    "    n = target\n",
    "    # N이 K보다 작을 때 (더 이상 나눌 수 없을 때) 반복문 탈출\n",
    "    if n < k:\n",
    "        break\n",
    "    # K로 나누기\n",
    "    result += 1\n",
    "    n //= k\n",
    "\n",
    "# 마지막으로 남은 수에 대하여 1씩 빼기\n",
    "result += (n - 1)\n",
    "print(result)"
   ]
  },
  {
   "cell_type": "code",
   "execution_count": null,
   "metadata": {},
   "outputs": [],
   "source": []
  },
  {
   "cell_type": "code",
   "execution_count": null,
   "metadata": {},
   "outputs": [],
   "source": []
  }
 ],
 "metadata": {
  "kernelspec": {
   "display_name": "Python 3.9.6 64-bit",
   "language": "python",
   "name": "python3"
  },
  "language_info": {
   "name": "python",
   "version": "3.9.6"
  },
  "orig_nbformat": 4,
  "vscode": {
   "interpreter": {
    "hash": "31f2aee4e71d21fbe5cf8b01ff0e069b9275f58929596ceb00d14d90e3e16cd6"
   }
  }
 },
 "nbformat": 4,
 "nbformat_minor": 2
}
